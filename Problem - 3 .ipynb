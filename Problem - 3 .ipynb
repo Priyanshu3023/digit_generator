{
 "cells": [
  {
   "cell_type": "code",
   "execution_count": 2,
   "id": "a11b7f81",
   "metadata": {},
   "outputs": [
    {
     "name": "stdout",
     "output_type": "stream",
     "text": [
      "Requirement already satisfied: torchvision in c:\\users\\priya\\anaconda3\\lib\\site-packages (0.22.1)\n",
      "Requirement already satisfied: numpy in c:\\users\\priya\\anaconda3\\lib\\site-packages (from torchvision) (1.24.3)\n",
      "Requirement already satisfied: torch==2.7.1 in c:\\users\\priya\\anaconda3\\lib\\site-packages (from torchvision) (2.7.1)\n",
      "Requirement already satisfied: pillow!=8.3.*,>=5.3.0 in c:\\users\\priya\\anaconda3\\lib\\site-packages (from torchvision) (10.2.0)\n",
      "Requirement already satisfied: filelock in c:\\users\\priya\\anaconda3\\lib\\site-packages (from torch==2.7.1->torchvision) (3.13.4)\n",
      "Requirement already satisfied: typing-extensions>=4.10.0 in c:\\users\\priya\\anaconda3\\lib\\site-packages (from torch==2.7.1->torchvision) (4.12.2)\n",
      "Requirement already satisfied: sympy>=1.13.3 in c:\\users\\priya\\anaconda3\\lib\\site-packages (from torch==2.7.1->torchvision) (1.14.0)\n",
      "Requirement already satisfied: networkx in c:\\users\\priya\\anaconda3\\lib\\site-packages (from torch==2.7.1->torchvision) (3.1)\n",
      "Requirement already satisfied: jinja2 in c:\\users\\priya\\anaconda3\\lib\\site-packages (from torch==2.7.1->torchvision) (3.1.2)\n",
      "Requirement already satisfied: fsspec in c:\\users\\priya\\anaconda3\\lib\\site-packages (from torch==2.7.1->torchvision) (2023.4.0)\n",
      "Requirement already satisfied: mpmath<1.4,>=1.1.0 in c:\\users\\priya\\anaconda3\\lib\\site-packages (from sympy>=1.13.3->torch==2.7.1->torchvision) (1.3.0)\n",
      "Requirement already satisfied: MarkupSafe>=2.0 in c:\\users\\priya\\anaconda3\\lib\\site-packages (from jinja2->torch==2.7.1->torchvision) (2.1.1)\n"
     ]
    }
   ],
   "source": [
    "# Install and Import\n",
    "!pip install torchvision\n",
    "import torch\n",
    "import torch.nn as nn\n",
    "import torch.nn.functional as F\n",
    "from torchvision import datasets, transforms\n",
    "from torch.utils.data import DataLoader\n",
    "import matplotlib.pyplot as plt\n"
   ]
  },
  {
   "cell_type": "code",
   "execution_count": 3,
   "id": "8f960d88",
   "metadata": {},
   "outputs": [
    {
     "name": "stderr",
     "output_type": "stream",
     "text": [
      "100%|█████████████████████████████████████████████████████████████████████████████| 9.91M/9.91M [00:03<00:00, 2.91MB/s]\n",
      "100%|█████████████████████████████████████████████████████████████████████████████| 28.9k/28.9k [00:00<00:00, 83.0kB/s]\n",
      "100%|██████████████████████████████████████████████████████████████████████████████| 1.65M/1.65M [00:05<00:00, 322kB/s]\n",
      "100%|██████████████████████████████████████████████████████████████████████████████| 4.54k/4.54k [00:00<00:00, 746kB/s]\n"
     ]
    }
   ],
   "source": [
    "# Load MNIST\n",
    "transform = transforms.ToTensor()\n",
    "train_data = datasets.MNIST(root='./data', train=True, download=True, transform=transform)\n",
    "train_loader = DataLoader(train_data, batch_size=128, shuffle=True)\n"
   ]
  },
  {
   "cell_type": "code",
   "execution_count": 4,
   "id": "0acaa8a7",
   "metadata": {},
   "outputs": [],
   "source": [
    "# One-hot encoding for labels\n",
    "def one_hot(labels, num_classes=10):\n",
    "    return F.one_hot(labels, num_classes=num_classes).float()"
   ]
  },
  {
   "cell_type": "code",
   "execution_count": 5,
   "id": "bc1767dc",
   "metadata": {},
   "outputs": [],
   "source": [
    "# Define CVAE Model\n",
    "class CVAE(nn.Module):\n",
    "    def __init__(self):\n",
    "        super(CVAE, self).__init__()\n",
    "        self.fc1 = nn.Linear(784 + 10, 400)\n",
    "        self.fc21 = nn.Linear(400, 20)\n",
    "        self.fc22 = nn.Linear(400, 20)\n",
    "        self.fc3 = nn.Linear(20 + 10, 400)\n",
    "        self.fc4 = nn.Linear(400, 784)\n",
    "\n",
    "    def encode(self, x, y):\n",
    "        h = F.relu(self.fc1(torch.cat([x, y], dim=1)))\n",
    "        return self.fc21(h), self.fc22(h)\n",
    "\n",
    "    def reparameterize(self, mu, logvar):\n",
    "        std = torch.exp(0.5 * logvar)\n",
    "        eps = torch.randn_like(std)\n",
    "        return mu + eps * std\n",
    "\n",
    "    def decode(self, z, y):\n",
    "        h = F.relu(self.fc3(torch.cat([z, y], dim=1)))\n",
    "        return torch.sigmoid(self.fc4(h))\n",
    "\n",
    "    def forward(self, x, y):\n",
    "        mu, logvar = self.encode(x, y)\n",
    "        z = self.reparameterize(mu, logvar)\n",
    "        return self.decode(z, y), mu, logvar"
   ]
  },
  {
   "cell_type": "code",
   "execution_count": 6,
   "id": "5b837458",
   "metadata": {},
   "outputs": [],
   "source": [
    "# Define Loss Function\n",
    "def loss_function(recon_x, x, mu, logvar):\n",
    "    BCE = F.binary_cross_entropy(recon_x, x, reduction='sum')\n",
    "    KLD = -0.5 * torch.sum(1 + logvar - mu.pow(2) - logvar.exp())\n",
    "    return BCE + KLD\n"
   ]
  },
  {
   "cell_type": "code",
   "execution_count": 7,
   "id": "3c62a06a",
   "metadata": {},
   "outputs": [
    {
     "name": "stdout",
     "output_type": "stream",
     "text": [
      "Epoch 1, Loss: 9773375.67\n",
      "Epoch 2, Loss: 7169785.74\n",
      "Epoch 3, Loss: 6745463.47\n",
      "Epoch 4, Loss: 6549287.74\n",
      "Epoch 5, Loss: 6422558.67\n",
      "Epoch 6, Loss: 6334965.83\n",
      "Epoch 7, Loss: 6272662.45\n",
      "Epoch 8, Loss: 6225541.69\n",
      "Epoch 9, Loss: 6185143.23\n",
      "Epoch 10, Loss: 6150972.87\n"
     ]
    }
   ],
   "source": [
    "# Train\n",
    "device = torch.device(\"cuda\" if torch.cuda.is_available() else \"cpu\")\n",
    "model = CVAE().to(device)\n",
    "optimizer = torch.optim.Adam(model.parameters(), lr=1e-3)\n",
    "\n",
    "epochs = 10\n",
    "for epoch in range(epochs):\n",
    "    model.train()\n",
    "    total_loss = 0\n",
    "    for x, y in train_loader:\n",
    "        x = x.view(-1, 784).to(device)\n",
    "        y_oh = one_hot(y).to(device)\n",
    "\n",
    "        recon_batch, mu, logvar = model(x, y_oh)\n",
    "        loss = loss_function(recon_batch, x, mu, logvar)\n",
    "\n",
    "        optimizer.zero_grad()\n",
    "        loss.backward()\n",
    "        optimizer.step()\n",
    "\n",
    "        total_loss += loss.item()\n",
    "    print(f\"Epoch {epoch+1}, Loss: {total_loss:.2f}\")"
   ]
  },
  {
   "cell_type": "code",
   "execution_count": 8,
   "id": "7808576b",
   "metadata": {},
   "outputs": [],
   "source": [
    "# STEP 6: Save Model\n",
    "torch.save(model.state_dict(), \"cvae_model.pt\")"
   ]
  },
  {
   "cell_type": "code",
   "execution_count": null,
   "id": "4437a640",
   "metadata": {},
   "outputs": [],
   "source": []
  }
 ],
 "metadata": {
  "kernelspec": {
   "display_name": "Python 3 (ipykernel)",
   "language": "python",
   "name": "python3"
  },
  "language_info": {
   "codemirror_mode": {
    "name": "ipython",
    "version": 3
   },
   "file_extension": ".py",
   "mimetype": "text/x-python",
   "name": "python",
   "nbconvert_exporter": "python",
   "pygments_lexer": "ipython3",
   "version": "3.11.5"
  }
 },
 "nbformat": 4,
 "nbformat_minor": 5
}
